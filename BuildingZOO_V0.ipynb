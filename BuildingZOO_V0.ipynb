{
  "nbformat": 4,
  "nbformat_minor": 0,
  "metadata": {
    "colab": {
      "provenance": [],
      "authorship_tag": "ABX9TyO0OTH1Rk2fwkz2neb8Jnp8",
      "include_colab_link": true
    },
    "kernelspec": {
      "name": "python3",
      "display_name": "Python 3"
    },
    "language_info": {
      "name": "python"
    }
  },
  "cells": [
    {
      "cell_type": "markdown",
      "metadata": {
        "id": "view-in-github",
        "colab_type": "text"
      },
      "source": [
        "<a href=\"https://colab.research.google.com/github/salmaelbarbori/3-Simple-Python-Projects/blob/master/BuildingZOO_V0.ipynb\" target=\"_parent\"><img src=\"https://colab.research.google.com/assets/colab-badge.svg\" alt=\"Open In Colab\"/></a>"
      ]
    },
    {
      "cell_type": "markdown",
      "source": [
        "# Building A ZOO wit Lists, Tuples, and Dictionaries"
      ],
      "metadata": {
        "id": "PaefqHWyFO36"
      }
    },
    {
      "cell_type": "markdown",
      "source": [
        "Import the needed library"
      ],
      "metadata": {
        "id": "ika5eQrWFfur"
      }
    },
    {
      "cell_type": "code",
      "execution_count": 16,
      "metadata": {
        "id": "TCaTzbmyCRGe"
      },
      "outputs": [],
      "source": [
        "import random"
      ]
    },
    {
      "cell_type": "markdown",
      "source": [
        "Creating our initial Dictionary to form the Zoo"
      ],
      "metadata": {
        "id": "GvY21ep6Fk4I"
      }
    },
    {
      "cell_type": "code",
      "source": [
        "zoo = {\n",
        "    'Lion': ('Mammal', 'Savannah', 5, ['8:00 AM', '3:00 PM'], ['Penguin']),\n",
        "    'Penguin': ('Bird', 'Arctic', 2, ['10:00 AM', '4:00 PM'], ['Lion']),\n",
        "    'Elephant': ('Mammal', 'Jungle', 8, ['9:00 AM', '2:00 PM'], []),\n",
        "}"
      ],
      "metadata": {
        "id": "wDiZaVekFlwO"
      },
      "execution_count": 18,
      "outputs": []
    },
    {
      "cell_type": "code",
      "source": [
        "def observe_animal_interactions(animal_name):\n",
        "    if animal_name in zoo:\n",
        "        species, habitat, age, feeding_times, interactions = zoo[animal_name]\n",
        "        print(f\"{animal_name} is a {species} living in {habitat}. Age: {age} years.\")\n",
        "        print(f\"Feeding times: {', '.join(feeding_times)}\")\n",
        "        if interactions:\n",
        "            print(f\"Interacts with: {', '.join(interactions)}\")\n",
        "            for interaction in interactions:\n",
        "                print(f\"{animal_name} and {interaction} seem to {generate_interaction_behavior()}.\")\n",
        "        else:\n",
        "            print(f\"{animal_name} is not known to interact with other animals.\")\n",
        "    else:\n",
        "        print(\"Animal not found in the zoo.\")"
      ],
      "metadata": {
        "id": "pQkNLbAhEU9a"
      },
      "execution_count": null,
      "outputs": []
    },
    {
      "cell_type": "markdown",
      "source": [
        "Converting my zoo to a list."
      ],
      "metadata": {
        "id": "uegCDzDOF5ar"
      }
    },
    {
      "cell_type": "code",
      "source": [
        "animal_names = list(zoo.keys())"
      ],
      "metadata": {
        "id": "0L4BjPdXEPn1"
      },
      "execution_count": 19,
      "outputs": []
    },
    {
      "cell_type": "markdown",
      "source": [
        "Accessing my list and getting a random behavior"
      ],
      "metadata": {
        "id": "JmnchTgtFBjk"
      }
    },
    {
      "cell_type": "code",
      "source": [
        "def generate_interaction_behavior():\n",
        "    behaviors = ['get along well', 'have occasional disagreements', 'ignore each other']\n",
        "    return random.choice(behaviors)"
      ],
      "metadata": {
        "id": "WnbCWyx9Eamj"
      },
      "execution_count": null,
      "outputs": []
    },
    {
      "cell_type": "markdown",
      "source": [
        "Displaying specific informations about an animal in my desired ZOO ;)"
      ],
      "metadata": {
        "id": "QPmh36dkHPaL"
      }
    },
    {
      "cell_type": "code",
      "source": [
        "def display_feeding_schedule(animal_name):\n",
        "    if animal_name in zoo:\n",
        "        _, _, _, feeding_times, _ = zoo[animal_name]\n",
        "        print(f\"{animal_name} feeding schedule: {', '.join(feeding_times)}\")\n",
        "    else:\n",
        "        print(\"Animal not found in the zoo.\")"
      ],
      "metadata": {
        "id": "gr0cEm3wEbSI"
      },
      "execution_count": 20,
      "outputs": []
    },
    {
      "cell_type": "markdown",
      "source": [
        "Adding new Animals to my ZOO to make it way bigger"
      ],
      "metadata": {
        "id": "uQVCrPRpIIaB"
      }
    },
    {
      "cell_type": "code",
      "source": [
        "\n",
        "def add_new_animal():\n",
        "    new_animal_name = input(\"Enter the name of the new animal: \")\n",
        "    new_species = input(\"Enter the species of the new animal: \")\n",
        "    new_habitat = input(\"Enter the habitat of the new animal: \")\n",
        "    new_age = int(input(\"Enter the age of the new animal: \"))\n",
        "    new_feeding_times = input(\"Enter feeding times for the new animal (comma-separated): \").split(', ')\n",
        "    new_friends = input(\"Enter friends for the new animal (comma-separated): \").split(', ')\n",
        "    new_enemies = input(\"Enter enemies for the new animal (comma-separated): \").split(', ')\n",
        "\n",
        "    zoo[new_animal_name] = (new_species, new_habitat, new_age, new_feeding_times, new_friends + new_enemies)\n",
        "    animal_names.append(new_animal_name)\n",
        "    print(f\"{new_animal_name} has been added to the zoo.\")\n"
      ],
      "metadata": {
        "id": "-WoM1s4PEe25"
      },
      "execution_count": 24,
      "outputs": []
    },
    {
      "cell_type": "markdown",
      "source": [
        "Checking my new ZOO, with the added animals"
      ],
      "metadata": {
        "id": "FjajH0jGIR5q"
      }
    },
    {
      "cell_type": "code",
      "source": [
        "def display_all_animals():\n",
        "    print(\"All Animals in the Zoo:\")\n",
        "    for animal_name, details in zoo.items():\n",
        "        species, habitat, age, feeding_times, interactions = details\n",
        "        print(f\"{animal_name} is a {species} living in {habitat}. Age: {age} years.\")\n",
        "        print(f\"Feeding times: {', '.join(feeding_times)}\")\n",
        "        if interactions:\n",
        "            print(f\"Interacts with: {', '.join(interactions)}\")\n",
        "        else:\n",
        "            print(f\"{animal_name} is not known to interact with other animals.\")\n",
        "        print()"
      ],
      "metadata": {
        "id": "4yyoDPCPEpuC"
      },
      "execution_count": 25,
      "outputs": []
    },
    {
      "cell_type": "markdown",
      "source": [
        "Apparently, I need to make changes. I'll remove two Animals since they are maing noise :("
      ],
      "metadata": {
        "id": "pFJMO5cRIfZl"
      }
    },
    {
      "cell_type": "code",
      "source": [
        "def remove_animal(animal_name):\n",
        "    if animal_name in zoo:\n",
        "        del zoo[animal_name]\n",
        "        animal_names.remove(animal_name)\n",
        "        print(f\"{animal_name} has been removed from the zoo.\")\n",
        "        return True\n",
        "    else:\n",
        "        print(\"Animal not found in the zoo.\")\n",
        "        return False"
      ],
      "metadata": {
        "id": "eYwKiw9nEjNi"
      },
      "execution_count": 27,
      "outputs": []
    },
    {
      "cell_type": "markdown",
      "source": [
        "I want to know the age of my Animal (Lion), you can choose any other animal"
      ],
      "metadata": {
        "id": "8zSc7JGcIoRb"
      }
    },
    {
      "cell_type": "code",
      "source": [
        "def check_animal_age(animal_name):\n",
        "    if animal_name in zoo:\n",
        "        _, _, age, _, _ = zoo[animal_name]\n",
        "        return age\n",
        "    else:\n",
        "        print(\"Animal not found in the zoo.\")\n",
        "        return None\n"
      ],
      "metadata": {
        "id": "IX-j-OHTEt-M"
      },
      "execution_count": 28,
      "outputs": []
    },
    {
      "cell_type": "markdown",
      "source": [
        "We are progressing XD!\n",
        "### Is it time to feed the lion?\n",
        "#### Let's see"
      ],
      "metadata": {
        "id": "nGavIRSNIwyI"
      }
    },
    {
      "cell_type": "code",
      "source": [
        "def feeding_reminder():\n",
        "    current_time = input(\"Enter the current time (HH:MM AM/PM): \")\n",
        "\n",
        "    reminder_shown = False\n",
        "\n",
        "    for animal_name, details in zoo.items():\n",
        "        _, _, _, feeding_times, _ = details\n",
        "        for feeding_time in feeding_times:\n",
        "            if is_feeding_time(current_time, feeding_time):\n",
        "                print(f\"It's feeding time for {animal_name}! Don't forget to feed them.\")\n",
        "                reminder_shown = True\n",
        "                break\n",
        "\n",
        "    if not reminder_shown:\n",
        "        print(\"No feeding times at the provided current time.\")\n",
        "\n",
        "def is_feeding_time(current_time, feeding_time):\n",
        "    return current_time.upper() == feeding_time.upper()"
      ],
      "metadata": {
        "id": "GnRXxpHzEziN"
      },
      "execution_count": 33,
      "outputs": []
    },
    {
      "cell_type": "markdown",
      "source": [
        "# Congratulations making it to the end"
      ],
      "metadata": {
        "id": "eVxK9DkMJibT"
      }
    }
  ]
}